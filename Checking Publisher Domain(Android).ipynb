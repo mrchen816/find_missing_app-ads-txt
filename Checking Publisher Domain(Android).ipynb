{
 "cells": [
  {
   "cell_type": "code",
   "execution_count": 192,
   "id": "60658c39",
   "metadata": {},
   "outputs": [],
   "source": [
    "import requests\n",
    "import json"
   ]
  },
  {
   "cell_type": "code",
   "execution_count": 212,
   "id": "99144e50",
   "metadata": {},
   "outputs": [],
   "source": [
    "baseUrl='http://api.adtimizer.co/android/app-ads-txt?id='\n",
    "bundleName='com.mattel163.phase10'\n",
    "txt_url = baseUrl+bundleName"
   ]
  },
  {
   "cell_type": "code",
   "execution_count": 213,
   "id": "3df636a1",
   "metadata": {},
   "outputs": [
    {
     "name": "stdout",
     "output_type": "stream",
     "text": [
      "mattel163.com\n"
     ]
    }
   ],
   "source": [
    "response = requests.get(txt_url, stream=True)\n",
    "jsonResponse = response.json()\n",
    "print(jsonResponse[1]['AppAdsUrl'])"
   ]
  },
  {
   "cell_type": "code",
   "execution_count": null,
   "id": "8652c5d4",
   "metadata": {},
   "outputs": [],
   "source": []
  }
 ],
 "metadata": {
  "kernelspec": {
   "display_name": "Python 3",
   "language": "python",
   "name": "python3"
  },
  "language_info": {
   "codemirror_mode": {
    "name": "ipython",
    "version": 3
   },
   "file_extension": ".py",
   "mimetype": "text/x-python",
   "name": "python",
   "nbconvert_exporter": "python",
   "pygments_lexer": "ipython3",
   "version": "3.8.8"
  }
 },
 "nbformat": 4,
 "nbformat_minor": 5
}
